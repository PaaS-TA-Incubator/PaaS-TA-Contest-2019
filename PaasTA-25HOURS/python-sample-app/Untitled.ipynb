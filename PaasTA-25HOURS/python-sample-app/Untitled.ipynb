{
 "cells": [
  {
   "cell_type": "code",
   "execution_count": 3,
   "metadata": {},
   "outputs": [],
   "source": [
    "import os"
   ]
  },
  {
   "cell_type": "code",
   "execution_count": 4,
   "metadata": {},
   "outputs": [],
   "source": [
    "import sys"
   ]
  },
  {
   "cell_type": "code",
   "execution_count": 5,
   "metadata": {},
   "outputs": [
    {
     "data": {
      "text/plain": [
       "1013"
      ]
     },
     "execution_count": 5,
     "metadata": {},
     "output_type": "execute_result"
    }
   ],
   "source": [
    "sys.api_version"
   ]
  },
  {
   "cell_type": "code",
   "execution_count": 6,
   "metadata": {},
   "outputs": [
    {
     "data": {
      "text/plain": [
       "'2.7.15 |Anaconda, Inc.| (default, Dec 10 2018, 21:57:18) [MSC v.1500 64 bit (AMD64)]'"
      ]
     },
     "execution_count": 6,
     "metadata": {},
     "output_type": "execute_result"
    }
   ],
   "source": [
    "sys.version"
   ]
  },
  {
   "cell_type": "code",
   "execution_count": 2,
   "metadata": {},
   "outputs": [],
   "source": [
    "import urllib2"
   ]
  },
  {
   "cell_type": "code",
   "execution_count": 3,
   "metadata": {},
   "outputs": [],
   "source": [
    "import requests\n",
    "import json"
   ]
  },
  {
   "cell_type": "code",
   "execution_count": 4,
   "metadata": {},
   "outputs": [
    {
     "name": "stdout",
     "output_type": "stream",
     "text": [
      "{\"status\":\"OK\",\"meta\":{\"totalCount\":1,\"page\":1,\"count\":1},\"addresses\":[{\"roadAddress\":\"서울특별시 강남구 삼성동\",\"jibunAddress\":\"서울특별시 강남구 삼성동\",\"englishAddress\":\"Samseong-dong, Gangnam-gu, Seoul, Republic of Korea\",\"addressElements\":[{\"types\":[\"SIDO\"],\"longName\":\"서울특별시\",\"shortName\":\"서울특별시\",\"code\":\"\"},{\"types\":[\"SIGUGUN\"],\"longName\":\"강남구\",\"shortName\":\"강남구\",\"code\":\"\"},{\"types\":[\"DONGMYUN\"],\"longName\":\"삼성동\",\"shortName\":\"삼성동\",\"code\":\"\"},{\"types\":[\"RI\"],\"longName\":\"\",\"shortName\":\"\",\"code\":\"\"},{\"types\":[\"ROAD_NAME\"],\"longName\":\"\",\"shortName\":\"\",\"code\":\"\"},{\"types\":[\"BUILDING_NUMBER\"],\"longName\":\"\",\"shortName\":\"\",\"code\":\"\"},{\"types\":[\"BUILDING_NAME\"],\"longName\":\"\",\"shortName\":\"\",\"code\":\"\"},{\"types\":[\"LAND_NUMBER\"],\"longName\":\"\",\"shortName\":\"\",\"code\":\"\"},{\"types\":[\"POSTAL_CODE\"],\"longName\":\"\",\"shortName\":\"\",\"code\":\"\"}],\"x\":\"127.0626243\",\"y\":\"37.5142950\",\"distance\":0.0}],\"errorMessage\":\"\"}\n"
     ]
    }
   ],
   "source": [
    "client_id = 'z0kc0oif32'\n",
    "client_secret = '4f2uCo9FMNilqm8AKFtp2LUJQVpLzCqDXXQreIfg'\n",
    "encText = urllib2.quote(\"강남구 삼성동\") \n",
    "url = 'https://naveropenapi.apigw.ntruss.com/map-geocode/v2/geocode?query='+encText \n",
    "\n",
    "request = urllib2.Request(url)\n",
    "request.add_header('X-NCP-APIGW-API-KEY-ID',client_id) \n",
    "request.add_header('X-NCP-APIGW-API-KEY',client_secret) \n",
    "response = urllib2.urlopen(request) \n",
    "rescode = response.getcode() \n",
    "if(rescode==200): \n",
    "    response_body = response.read() \n",
    "    # print(response_body.decode('utf-8')) \n",
    "    print(response_body.decode('utf-8'))\n",
    "else: \n",
    "    print(\"Error Code:\" + rescode)"
   ]
  },
  {
   "cell_type": "code",
   "execution_count": 5,
   "metadata": {},
   "outputs": [],
   "source": [
    "jsonAddress = json.loads(response_body.decode('utf-8'))"
   ]
  },
  {
   "cell_type": "code",
   "execution_count": 6,
   "metadata": {},
   "outputs": [
    {
     "data": {
      "text/plain": [
       "{u'addresses': [{u'addressElements': [{u'code': u'',\n",
       "     u'longName': u'\\uc11c\\uc6b8\\ud2b9\\ubcc4\\uc2dc',\n",
       "     u'shortName': u'\\uc11c\\uc6b8\\ud2b9\\ubcc4\\uc2dc',\n",
       "     u'types': [u'SIDO']},\n",
       "    {u'code': u'',\n",
       "     u'longName': u'\\uac15\\ub0a8\\uad6c',\n",
       "     u'shortName': u'\\uac15\\ub0a8\\uad6c',\n",
       "     u'types': [u'SIGUGUN']},\n",
       "    {u'code': u'',\n",
       "     u'longName': u'\\uc0bc\\uc131\\ub3d9',\n",
       "     u'shortName': u'\\uc0bc\\uc131\\ub3d9',\n",
       "     u'types': [u'DONGMYUN']},\n",
       "    {u'code': u'', u'longName': u'', u'shortName': u'', u'types': [u'RI']},\n",
       "    {u'code': u'',\n",
       "     u'longName': u'',\n",
       "     u'shortName': u'',\n",
       "     u'types': [u'ROAD_NAME']},\n",
       "    {u'code': u'',\n",
       "     u'longName': u'',\n",
       "     u'shortName': u'',\n",
       "     u'types': [u'BUILDING_NUMBER']},\n",
       "    {u'code': u'',\n",
       "     u'longName': u'',\n",
       "     u'shortName': u'',\n",
       "     u'types': [u'BUILDING_NAME']},\n",
       "    {u'code': u'',\n",
       "     u'longName': u'',\n",
       "     u'shortName': u'',\n",
       "     u'types': [u'LAND_NUMBER']},\n",
       "    {u'code': u'',\n",
       "     u'longName': u'',\n",
       "     u'shortName': u'',\n",
       "     u'types': [u'POSTAL_CODE']}],\n",
       "   u'distance': 0.0,\n",
       "   u'englishAddress': u'Samseong-dong, Gangnam-gu, Seoul, Republic of Korea',\n",
       "   u'jibunAddress': u'\\uc11c\\uc6b8\\ud2b9\\ubcc4\\uc2dc \\uac15\\ub0a8\\uad6c \\uc0bc\\uc131\\ub3d9',\n",
       "   u'roadAddress': u'\\uc11c\\uc6b8\\ud2b9\\ubcc4\\uc2dc \\uac15\\ub0a8\\uad6c \\uc0bc\\uc131\\ub3d9',\n",
       "   u'x': u'127.0626243',\n",
       "   u'y': u'37.5142950'}],\n",
       " u'errorMessage': u'',\n",
       " u'meta': {u'count': 1, u'page': 1, u'totalCount': 1},\n",
       " u'status': u'OK'}"
      ]
     },
     "execution_count": 6,
     "metadata": {},
     "output_type": "execute_result"
    }
   ],
   "source": [
    "jsonAddress"
   ]
  },
  {
   "cell_type": "code",
   "execution_count": 7,
   "metadata": {},
   "outputs": [
    {
     "data": {
      "text/plain": [
       "[u'status', u'errorMessage', u'meta', u'addresses']"
      ]
     },
     "execution_count": 7,
     "metadata": {},
     "output_type": "execute_result"
    }
   ],
   "source": [
    "list(jsonAddress.keys())"
   ]
  },
  {
   "cell_type": "code",
   "execution_count": 8,
   "metadata": {},
   "outputs": [
    {
     "data": {
      "text/plain": [
       "u'127.0626243'"
      ]
     },
     "execution_count": 8,
     "metadata": {},
     "output_type": "execute_result"
    }
   ],
   "source": [
    "jsonAddress['addresses'][0]['x']"
   ]
  },
  {
   "cell_type": "code",
   "execution_count": 39,
   "metadata": {},
   "outputs": [],
   "source": [
    "def get_request_url(url):\n",
    "    req = urllib2.Request(url)\n",
    "    app_id = \"z0kc0oif32\"\n",
    "    app_secret = \"4f2uCo9FMNilqm8AKFtp2LUJQVpLzCqDXXQreIfg\"\n",
    "    req.add_header(\"X-NCP-APIGW-API-KEY-ID\", app_id)\n",
    "    req.add_header(\"X-NCP-APIGW-API-KEY\", app_secret)\n",
    "    \n",
    "    try:\n",
    "        response = urllib2.urlopen(req)\n",
    "\n",
    "        if response.getcode() == 200:\n",
    "            return response.read().decode('utf-8')\n",
    "    except Exception as e:\n",
    "        print(e)\n",
    "        return None\n",
    "     \n",
    "def getGeoData(address):\n",
    "    base = \"https://naveropenapi.apigw.ntruss.com/map-geocode/v2/geocode\"\n",
    "    \n",
    "    parameters = \"\"\n",
    "    \n",
    "    parameters = \"?query=%s\" % urllib2.quote(address)\n",
    "\n",
    "    url = base + parameters\n",
    "    \n",
    "    retData = get_request_url(url)\n",
    "    if retData == None:\n",
    "        return None\n",
    "\n",
    "    jsonAddress = json.loads(retData)\n",
    "\n",
    "    print(jsonAddress['addresses'])\n",
    "    if 'addresses' in jsonAddress.keys():\n",
    "        if jsonAddress['addresses']:\n",
    "            latitude = jsonAddress['addresses'][0]['y']\n",
    "            longitude = jsonAddress['addresses'][0]['x']\n",
    "        else:\n",
    "            return None\n",
    "    else:\n",
    "        return None\n",
    "\n",
    "    return [latitude, longitude]"
   ]
  },
  {
   "cell_type": "code",
   "execution_count": 40,
   "metadata": {},
   "outputs": [
    {
     "name": "stdout",
     "output_type": "stream",
     "text": [
      "[]\n"
     ]
    }
   ],
   "source": [
    "current_location = getGeoData(\"강남역\")"
   ]
  },
  {
   "cell_type": "code",
   "execution_count": 14,
   "metadata": {},
   "outputs": [
    {
     "ename": "NameError",
     "evalue": "name 'folium' is not defined",
     "output_type": "error",
     "traceback": [
      "\u001b[1;31m---------------------------------------------------------------------------\u001b[0m",
      "\u001b[1;31mNameError\u001b[0m                                 Traceback (most recent call last)",
      "\u001b[1;32m<ipython-input-14-51bea91b04f6>\u001b[0m in \u001b[0;36m<module>\u001b[1;34m()\u001b[0m\n\u001b[1;32m----> 1\u001b[1;33m \u001b[0mmap\u001b[0m \u001b[1;33m=\u001b[0m \u001b[0mfolium\u001b[0m\u001b[1;33m.\u001b[0m\u001b[0mMap\u001b[0m\u001b[1;33m(\u001b[0m\u001b[0mlocation\u001b[0m\u001b[1;33m=\u001b[0m\u001b[0mcurrent_location\u001b[0m\u001b[1;33m,\u001b[0m \u001b[0mzoom_start\u001b[0m\u001b[1;33m=\u001b[0m\u001b[1;36m15\u001b[0m\u001b[1;33m)\u001b[0m\u001b[1;33m\u001b[0m\u001b[0m\n\u001b[0m",
      "\u001b[1;31mNameError\u001b[0m: name 'folium' is not defined"
     ]
    }
   ],
   "source": [
    "map = folium.Map(location=current_location, zoom_start=15)"
   ]
  },
  {
   "cell_type": "code",
   "execution_count": 70,
   "metadata": {},
   "outputs": [],
   "source": [
    "current_location = getGeoData(\"광진구\")"
   ]
  },
  {
   "cell_type": "code",
   "execution_count": 71,
   "metadata": {},
   "outputs": [
    {
     "data": {
      "text/plain": [
       "[u'37.5386170', u'127.0823750']"
      ]
     },
     "execution_count": 71,
     "metadata": {},
     "output_type": "execute_result"
    }
   ],
   "source": [
    "current_location"
   ]
  },
  {
   "cell_type": "code",
   "execution_count": null,
   "metadata": {},
   "outputs": [],
   "source": []
  }
 ],
 "metadata": {
  "kernelspec": {
   "display_name": "Python 2.7",
   "language": "python",
   "name": "python27"
  },
  "language_info": {
   "codemirror_mode": {
    "name": "ipython",
    "version": 2
   },
   "file_extension": ".py",
   "mimetype": "text/x-python",
   "name": "python",
   "nbconvert_exporter": "python",
   "pygments_lexer": "ipython2",
   "version": "2.7.15"
  }
 },
 "nbformat": 4,
 "nbformat_minor": 2
}
